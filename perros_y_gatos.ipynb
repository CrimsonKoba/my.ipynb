{
  "nbformat": 4,
  "nbformat_minor": 0,
  "metadata": {
    "colab": {
      "provenance": [],
      "collapsed_sections": [],
      "authorship_tag": "ABX9TyOlIKta4UrvsCY41hrThYYA",
      "include_colab_link": true
    },
    "kernelspec": {
      "name": "python3",
      "display_name": "Python 3"
    },
    "language_info": {
      "name": "python"
    },
    "accelerator": "GPU"
  },
  "cells": [
    {
      "cell_type": "markdown",
      "metadata": {
        "id": "view-in-github",
        "colab_type": "text"
      },
      "source": [
        "<a href=\"https://colab.research.google.com/github/CrimsonKoba/my.ipynb/blob/main/perros_y_gatos.ipynb\" target=\"_parent\"><img src=\"https://colab.research.google.com/assets/colab-badge.svg\" alt=\"Open In Colab\"/></a>"
      ]
    },
    {
      "cell_type": "code",
      "execution_count": null,
      "metadata": {
        "id": "UJasPRoJSjRR"
      },
      "outputs": [],
      "source": [
        "import numpy as np\n",
        "import cv2\n",
        "import matplotlib.pyplot as plt\n",
        "import tensorflow as tf\n",
        "import tensorflow_datasets as tfds\n",
        "from keras import layers, models\n",
        "from keras.callbacks import TensorBoard\n",
        "from keras.preprocessing.image import ImageDataGenerator"
      ]
    },
    {
      "cell_type": "code",
      "source": [
        "datos, metadatos = tfds.load('cats_vs_dogs', as_supervised=True, with_info=True)"
      ],
      "metadata": {
        "id": "Kla5caFPS3SL"
      },
      "execution_count": null,
      "outputs": []
    },
    {
      "cell_type": "code",
      "source": [
        "tfds.as_dataframe(datos['train'].take(5), metadatos)\n",
        "tfds.show_examples(datos['train'], metadatos)"
      ],
      "metadata": {
        "id": "2gLoJGMITAoW"
      },
      "execution_count": null,
      "outputs": []
    },
    {
      "cell_type": "code",
      "source": [
        "plt.figure(figsize=(20, 20))\n",
        "\n",
        "TAMAÑO = 100\n",
        "\n",
        "for i, (imagen, etiqueta) in enumerate(datos['train'].take(25)):\n",
        "    imagen = cv2.resize(imagen.numpy(), (TAMAÑO, TAMAÑO))\n",
        "    imagen = cv2.cvtColor(imagen, cv2.COLOR_RGB2GRAY)\n",
        "    plt.subplot(5, 5, i+1)\n",
        "    plt.xticks([])\n",
        "    plt.yticks([])\n",
        "    plt.imshow(imagen, cmap='gray')"
      ],
      "metadata": {
        "id": "2oHpaQWHTWWz"
      },
      "execution_count": null,
      "outputs": []
    },
    {
      "cell_type": "code",
      "source": [
        "datos_entrenamiento = []\n",
        "\n",
        "for i, (imagen, etiqueta) in enumerate(datos['train']):\n",
        "    imagen = cv2.resize(imagen.numpy(), (TAMAÑO, TAMAÑO))\n",
        "    imagen = cv2.cvtColor(imagen, cv2.COLOR_RGB2GRAY)\n",
        "    imagen = imagen.reshape(TAMAÑO, TAMAÑO, 1)\n",
        "    datos_entrenamiento.append([imagen, etiqueta])"
      ],
      "metadata": {
        "id": "qyvpERHZTZuJ"
      },
      "execution_count": null,
      "outputs": []
    },
    {
      "cell_type": "code",
      "source": [
        "x = []\n",
        "y = []\n",
        "\n",
        "for imagen, etiqueta in datos_entrenamiento:\n",
        "    x.append(imagen)\n",
        "    y.append(etiqueta)"
      ],
      "metadata": {
        "id": "SmyC1x4OTgRW"
      },
      "execution_count": null,
      "outputs": []
    },
    {
      "cell_type": "code",
      "source": [
        "x = np.array(x).astype(float) / 255\n",
        "y = np.array(y)"
      ],
      "metadata": {
        "id": "bGeezvpjTjuw"
      },
      "execution_count": null,
      "outputs": []
    },
    {
      "cell_type": "code",
      "source": [
        "modelo_denso = models.Sequential([\n",
        "    layers.Flatten(input_shape=(100, 100, 1)),\n",
        "    layers.Dense(150, activation='relu'),\n",
        "    layers.Dense(150, activation='relu'),\n",
        "    layers.Dense(1, activation='sigmoid')\n",
        "])\n",
        "\n",
        "modelo_cnn = models.Sequential([\n",
        "    layers.Conv2D(32, (3, 3), activation='relu',\n",
        "                 input_shape=(100, 100, 1)),\n",
        "    layers.MaxPooling2D(2, 2),\n",
        "    layers.Conv2D(64, (3, 3), activation='relu'),\n",
        "    layers.MaxPooling2D(2, 2),\n",
        "    layers.Conv2D(128, (3, 3), activation='relu'),\n",
        "    layers.MaxPooling2D(2, 2),\n",
        "    \n",
        "    layers.Flatten(),\n",
        "    layers.Dense(100, activation='relu'),\n",
        "    layers.Dense(1, activation='sigmoid')\n",
        "])\n",
        "\n",
        "modelo_cnn2 = models.Sequential([\n",
        "    layers.Conv2D(32, (3, 3), activation='relu',\n",
        "                 input_shape=(100, 100, 1)),\n",
        "    layers.MaxPooling2D(2, 2),\n",
        "    layers.Conv2D(64, (3, 3), activation='relu'),\n",
        "    layers.MaxPooling2D(2, 2),\n",
        "    layers.Conv2D(128, (3, 3), activation='relu'),\n",
        "    layers.MaxPooling2D(2, 2),\n",
        "    \n",
        "    layers.Dropout(0.5),\n",
        "    layers.Flatten(),\n",
        "    layers.Dense(250, activation='relu'),\n",
        "    layers.Dense(1, activation='sigmoid')\n",
        "])"
      ],
      "metadata": {
        "id": "QAD2Em_STuRh"
      },
      "execution_count": null,
      "outputs": []
    },
    {
      "cell_type": "code",
      "source": [
        "modelo_denso.compile(optimizer='adam',\n",
        "                     loss='binary_crossentropy',\n",
        "                     metrics=['accuracy'])\n",
        "modelo_cnn.compile(optimizer='adam',\n",
        "                     loss='binary_crossentropy',\n",
        "                     metrics=['accuracy'])\n",
        "modelo_cnn2.compile(optimizer='adam',\n",
        "                     loss='binary_crossentropy',\n",
        "                     metrics=['accuracy'])"
      ],
      "metadata": {
        "id": "drcLO8WjTwll"
      },
      "execution_count": null,
      "outputs": []
    },
    {
      "cell_type": "code",
      "source": [
        "tensorboard_denso = TensorBoard(log_dir='logs/denso')\n",
        "modelo_denso.fit(x, y, batch_size=32,\n",
        "                validation_split=0.15,\n",
        "                epochs=100,\n",
        "                callbacks=[tensorboard_denso])"
      ],
      "metadata": {
        "id": "Zl9qiG9LT0oS"
      },
      "execution_count": null,
      "outputs": []
    },
    {
      "cell_type": "code",
      "source": [
        "%load_ext tensorboard"
      ],
      "metadata": {
        "id": "qsfIMPBqT9cB"
      },
      "execution_count": null,
      "outputs": []
    },
    {
      "cell_type": "code",
      "source": [
        "%tensorboard --logdir logs"
      ],
      "metadata": {
        "id": "rruLvxA3U-wg"
      },
      "execution_count": null,
      "outputs": []
    },
    {
      "cell_type": "code",
      "source": [
        "tensorboard_cnn = TensorBoard(log_dir='logs/cnn')\n",
        "modelo_cnn.fit(x, y, batch_size=32,\n",
        "                validation_split=0.15,\n",
        "                epochs=100,\n",
        "                callbacks=[tensorboard_cnn])"
      ],
      "metadata": {
        "id": "4XC7CUcKVGWB"
      },
      "execution_count": null,
      "outputs": []
    },
    {
      "cell_type": "code",
      "source": [
        "tensorboard_cnn2 = TensorBoard(log_dir='logs/cnn')\n",
        "modelo_cnn2.fit(x, y, batch_size=32,\n",
        "                validation_split=0.15,\n",
        "                epochs=100,\n",
        "                callbacks=[tensorboard_cnn2])"
      ],
      "metadata": {
        "id": "gsJ13TQGE_74"
      },
      "execution_count": null,
      "outputs": []
    },
    {
      "cell_type": "code",
      "source": [
        "plt.figure(figsize=(20, 8))\n",
        "\n",
        "for i in range(10):\n",
        "  plt.subplot(2, 5, i+1)\n",
        "  plt.xticks([])\n",
        "  plt.yticks([])\n",
        "  plt.imshow(x[i].reshape(100, 100), cmap=\"gray\")"
      ],
      "metadata": {
        "id": "GBv-amwkncdH"
      },
      "execution_count": null,
      "outputs": []
    },
    {
      "cell_type": "code",
      "source": [
        "datagen = ImageDataGenerator(\n",
        "    rotation_range=39,\n",
        "    width_shift_range=.2,\n",
        "    height_shift_range=.2,\n",
        "    shear_range=15,\n",
        "    zoom_range=[0.7, 1.4],\n",
        "    horizontal_flip=True,\n",
        "    vertical_flip=True\n",
        ")\n",
        "datagen.fit(x)\n",
        "\n",
        "plt.figure(figsize=(20,8))\n",
        "\n",
        "for imagen, etiqueta in datagen.flow(x, y, batch_size=10, shuffle=False):\n",
        "    for i in range(10):\n",
        "        plt.subplot(2, 5, i+1)\n",
        "        plt.xticks([])\n",
        "        plt.yticks([])\n",
        "        plt.imshow(imagen[i].reshape(100, 100), cmap=\"gray\")\n",
        "    break"
      ],
      "metadata": {
        "id": "J5lXL9wEyrdL"
      },
      "execution_count": null,
      "outputs": []
    },
    {
      "cell_type": "code",
      "source": [
        "modelo_denso_AD = models.Sequential([\n",
        "    layers.Flatten(input_shape=(100, 100, 1)),\n",
        "    layers.Dense(150, activation='relu'),\n",
        "    layers.Dense(150, activation='relu'),\n",
        "    layers.Dense(1, activation='sigmoid')\n",
        "])\n",
        "\n",
        "modelo_cnn_AD = models.Sequential([\n",
        "    layers.Conv2D(32, (3, 3), activation='relu',\n",
        "                 input_shape=(100, 100, 1)),\n",
        "    layers.MaxPooling2D(2, 2),\n",
        "    layers.Conv2D(64, (3, 3), activation='relu'),\n",
        "    layers.MaxPooling2D(2, 2),\n",
        "    layers.Conv2D(128, (3, 3), activation='relu'),\n",
        "    layers.MaxPooling2D(2, 2),\n",
        "    \n",
        "    layers.Flatten(),\n",
        "    layers.Dense(100, activation='relu'),\n",
        "    layers.Dense(1, activation='sigmoid')\n",
        "])\n",
        "\n",
        "modelo_cnn2_AD = models.Sequential([\n",
        "    layers.Conv2D(32, (3, 3), activation='relu',\n",
        "                 input_shape=(100, 100, 1)),\n",
        "    layers.MaxPooling2D(2, 2),\n",
        "    layers.Conv2D(64, (3, 3), activation='relu'),\n",
        "    layers.MaxPooling2D(2, 2),\n",
        "    layers.Conv2D(128, (3, 3), activation='relu'),\n",
        "    layers.MaxPooling2D(2, 2),\n",
        "    \n",
        "    layers.Dropout(0.5),\n",
        "    layers.Flatten(),\n",
        "    layers.Dense(250, activation='relu'),\n",
        "    layers.Dense(1, activation='sigmoid')\n",
        "])"
      ],
      "metadata": {
        "id": "fYZ-RV1b3Lvr"
      },
      "execution_count": null,
      "outputs": []
    },
    {
      "cell_type": "code",
      "source": [
        "modelo_denso_AD.compile(optimizer='adam',\n",
        "                     loss='binary_crossentropy',\n",
        "                     metrics=['accuracy'])\n",
        "modelo_cnn_AD.compile(optimizer='adam',\n",
        "                     loss='binary_crossentropy',\n",
        "                     metrics=['accuracy'])\n",
        "modelo_cnn2_AD.compile(optimizer='adam',\n",
        "                     loss='binary_crossentropy',\n",
        "                     metrics=['accuracy'])"
      ],
      "metadata": {
        "id": "fFq4GxuE6xsP"
      },
      "execution_count": null,
      "outputs": []
    },
    {
      "cell_type": "code",
      "source": [
        "#len(x) * .80  # 18600\n",
        "#len(x) - 18600  # 4662\n",
        "\n",
        "x_entrenamiento = x[:18600]\n",
        "x_validacion = x[18600:]\n",
        "\n",
        "y_entrenamiento = y[:18600]\n",
        "y_validacion = y[18600:]"
      ],
      "metadata": {
        "id": "05ylmOAX3X9l"
      },
      "execution_count": null,
      "outputs": []
    },
    {
      "cell_type": "code",
      "source": [
        "data_gen_entrenamiento = datagen.flow(x_entrenamiento, y_entrenamiento, batch_size=32)"
      ],
      "metadata": {
        "id": "dH48wAZ64mzY"
      },
      "execution_count": null,
      "outputs": []
    },
    {
      "cell_type": "code",
      "source": [
        "tensorboard_denso_AD = TensorBoard(log_dir='logs/densoAD')\n",
        "\n",
        "modelo_denso_AD.fit(\n",
        "    data_gen_entrenamiento,\n",
        "    epochs=100, batch_size=32,\n",
        "    validation_data=(x_validacion, y_validacion),\n",
        "    steps_per_epoch=int(np.ceil(len(x_entrenamiento) / 32.0)),\n",
        "    validation_steps=int(np.ceil(len(x_validacion) / 32.0)),\n",
        "    callbacks=[tensorboard_denso_AD]\n",
        " )"
      ],
      "metadata": {
        "id": "OnKSZI-84xvp",
        "colab": {
          "base_uri": "https://localhost:8080/"
        },
        "outputId": "4a443b1e-b27d-4d52-f72d-50b308cc4920"
      },
      "execution_count": null,
      "outputs": [
        {
          "output_type": "stream",
          "name": "stdout",
          "text": [
            "582/582 [==============================] - 19s 32ms/step - loss: 0.6932 - accuracy: 0.5022 - val_loss: 0.6931 - val_accuracy: 0.5041\n",
            "Epoch 49/100\n",
            "582/582 [==============================] - 18s 32ms/step - loss: 0.6932 - accuracy: 0.5000 - val_loss: 0.6932 - val_accuracy: 0.4959\n",
            "Epoch 50/100\n",
            " 57/582 [=>............................] - ETA: 17s - loss: 0.6932 - accuracy: 0.4989"
          ]
        }
      ]
    },
    {
      "cell_type": "code",
      "source": [
        "tensorboard_cnn_AD = TensorBoard(log_dir='logs/cnnAD')\n",
        "\n",
        "modelo_cnn_AD.fit(\n",
        "    data_gen_entrenamiento,\n",
        "    epochs=100, batch_size=32,\n",
        "    validation_data=(x_validacion, y_validacion),\n",
        "    steps_per_epoch=int(np.ceil(len(x_entrenamiento) / 32.0)),\n",
        "    validation_steps=int(np.ceil(len(x_validacion) / 32.0)),\n",
        "    callbacks=[tensorboard_cnn_AD]\n",
        ")"
      ],
      "metadata": {
        "id": "xxIi9u8s7Gvg"
      },
      "execution_count": null,
      "outputs": []
    }
  ]
}